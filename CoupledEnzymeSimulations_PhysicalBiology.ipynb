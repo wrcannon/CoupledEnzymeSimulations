{
 "cells": [
  {
   "cell_type": "markdown",
   "metadata": {
    "toc": "true"
   },
   "source": [
    "# Table of Contents\n",
    " <p><div class=\"lev1 toc-item\"><a href=\"#Introduction:-The-Reactions\" data-toc-modified-id=\"Introduction:-The-Reactions-1\"><span class=\"toc-item-num\">1&nbsp;&nbsp;</span>Introduction: The Reactions</a></div><div class=\"lev1 toc-item\"><a href=\"#ODEs\" data-toc-modified-id=\"ODEs-2\"><span class=\"toc-item-num\">2&nbsp;&nbsp;</span>ODEs</a></div><div class=\"lev2 toc-item\"><a href=\"#ODEs-based-on-rate-constants\" data-toc-modified-id=\"ODEs-based-on-rate-constants-21\"><span class=\"toc-item-num\">2.1&nbsp;&nbsp;</span>ODEs based on rate constants</a></div><div class=\"lev2 toc-item\"><a href=\"#ODEs-based-on-Coupled-Reaction-Theorem\" data-toc-modified-id=\"ODEs-based-on-Coupled-Reaction-Theorem-22\"><span class=\"toc-item-num\">2.2&nbsp;&nbsp;</span>ODEs based on Coupled Reaction Theorem</a></div><div class=\"lev1 toc-item\"><a href=\"#Global-Parameters\" data-toc-modified-id=\"Global-Parameters-3\"><span class=\"toc-item-num\">3&nbsp;&nbsp;</span>Global Parameters</a></div><div class=\"lev1 toc-item\"><a href=\"#Mass-Action-Dynamics-of-Enzyme-Catalyzed-Reactions-using-Rate-Constants\" data-toc-modified-id=\"Mass-Action-Dynamics-of-Enzyme-Catalyzed-Reactions-using-Rate-Constants-4\"><span class=\"toc-item-num\">4&nbsp;&nbsp;</span>Mass Action Dynamics of Enzyme Catalyzed Reactions using Rate Constants</a></div><div class=\"lev2 toc-item\"><a href=\"#ODE-Implementation\" data-toc-modified-id=\"ODE-Implementation-41\"><span class=\"toc-item-num\">4.1&nbsp;&nbsp;</span>ODE Implementation</a></div><div class=\"lev2 toc-item\"><a href=\"#Run-simulation\" data-toc-modified-id=\"Run-simulation-42\"><span class=\"toc-item-num\">4.2&nbsp;&nbsp;</span>Run simulation</a></div><div class=\"lev1 toc-item\"><a href=\"#ODE-of-Mass-Action-Dynamics-of-Enzyme-Catalyzed-Reactions-using-Coupled-Reaction-Theorem\" data-toc-modified-id=\"ODE-of-Mass-Action-Dynamics-of-Enzyme-Catalyzed-Reactions-using-Coupled-Reaction-Theorem-5\"><span class=\"toc-item-num\">5&nbsp;&nbsp;</span>ODE of Mass Action Dynamics of Enzyme Catalyzed Reactions using Coupled Reaction Theorem</a></div><div class=\"lev2 toc-item\"><a href=\"#ODE-Implementation\" data-toc-modified-id=\"ODE-Implementation-51\"><span class=\"toc-item-num\">5.1&nbsp;&nbsp;</span>ODE Implementation</a></div><div class=\"lev2 toc-item\"><a href=\"#Run-simulation\" data-toc-modified-id=\"Run-simulation-52\"><span class=\"toc-item-num\">5.2&nbsp;&nbsp;</span>Run simulation</a></div><div class=\"lev1 toc-item\"><a href=\"#ODE-of-Summary-Reactions-using-the-Coupled-Reaction-Theorem\" data-toc-modified-id=\"ODE-of-Summary-Reactions-using-the-Coupled-Reaction-Theorem-6\"><span class=\"toc-item-num\">6&nbsp;&nbsp;</span>ODE of Summary Reactions using the Coupled Reaction Theorem</a></div><div class=\"lev2 toc-item\"><a href=\"#ODE-Formulation\" data-toc-modified-id=\"ODE-Formulation-61\"><span class=\"toc-item-num\">6.1&nbsp;&nbsp;</span>ODE Formulation</a></div><div class=\"lev2 toc-item\"><a href=\"#Run-simulation\" data-toc-modified-id=\"Run-simulation-62\"><span class=\"toc-item-num\">6.2&nbsp;&nbsp;</span>Run simulation</a></div><div class=\"lev1 toc-item\"><a href=\"#Figures-3A-3C\" data-toc-modified-id=\"Figures-3A-3C-7\"><span class=\"toc-item-num\">7&nbsp;&nbsp;</span>Figures 3A-3C</a></div><div class=\"lev1 toc-item\"><a href=\"#Figure-3D\" data-toc-modified-id=\"Figure-3D-8\"><span class=\"toc-item-num\">8&nbsp;&nbsp;</span>Figure 3D</a></div><div class=\"lev1 toc-item\"><a href=\"#References\" data-toc-modified-id=\"References-9\"><span class=\"toc-item-num\">9&nbsp;&nbsp;</span>References</a></div>"
   ]
  },
  {
   "cell_type": "markdown",
   "metadata": {},
   "source": [
    "# Introduction: The Reactions"
   ]
  },
  {
   "cell_type": "markdown",
   "metadata": {
    "collapsed": false,
    "hide_input": true
   },
   "source": [
    "This notebook describes the deterministic simulations of the reaction scheme shown in Figure 2 \n",
    "of the manscript, which is reproduced below for convenience. The notebook can be run as a Jupyter \n",
    "notebook with a Matlab kernel, or the Matlab code can be\n",
    "cut and pasted into .m files for direct use with Matlab. For use within a Jupyter notebook, see \n",
    "https://github.com/Calysto/matlab_kernel or \n",
    "https://anneurai.net/2015/11/12/matlab-based-ipython-notebooks/.\n"
   ]
  },
  {
   "cell_type": "markdown",
   "metadata": {},
   "source": [
    "<img src=\"reaction_pathway2.png\">"
   ]
  },
  {
   "cell_type": "markdown",
   "metadata": {
    "collapsed": false,
    "hide_input": false
   },
   "source": [
    "The numbers labeling the reactions are the indices used to indicate which reaction is being discussed. \n",
    "For example, the rate constant for reaction +2 and -2 are respectively, $k_{2}$ and $k_{-2}$. "
   ]
  },
  {
   "cell_type": "markdown",
   "metadata": {},
   "source": [
    "# ODEs"
   ]
  },
  {
   "cell_type": "markdown",
   "metadata": {},
   "source": [
    "## ODEs based on rate constants"
   ]
  },
  {
   "cell_type": "code",
   "execution_count": 86,
   "metadata": {
    "collapsed": false,
    "hide_input": false
   },
   "outputs": [
    {
     "data": {
      "text/latex": [
       "The ordinary differential equations (ODEs) used in the simulation based on rate parameters are as follows:\n",
       "\n",
       "\\begin{align}\n",
       "\\frac{d[A]}{dt} & = & 0 \\\\\n",
       "\n",
       "\\frac{d[E1:A]}{dt} & = & k_2 [E1][A] - k_{-2}[E1:A] - k_3[E1:A] + k_{-3} [E1:B] \\\\\n",
       "\n",
       "\\frac{d[E1:B]}{dt} & = & k_3[E1:A] - k_{-3}[E1:B] - k_4[E1:B] + k_{-4}[E1][B] \\\\\n",
       "\n",
       "\\frac{d[B]}{dt} & = & k_4[E1:B] - k_{-4}[E1][B] - k_6[B][E2] + k_{-6}[E2:B] \\\\ \n",
       "\n",
       "\\frac{d[E1]}{dt} & = & = -k2[A][E1] + k_{-2}[E1:A] + k_4[E1:B] - k_{-4}[E1][B] \\\\\n",
       "\n",
       "\n",
       "\\frac{d[E2:B]}{dt} & = & k_6[E2][B] - k_{-6}[E2:B] - k_7[E2:B] + k_{-7}[E2:C] \\\\\n",
       "\n",
       "\\frac{d[E2:C]}{dt} & = &  k_7[E2:B] - k_{-7}[E2:C] - k_8[E2:C] + k_{-8}[E2][C] \\\\\n",
       "\n",
       "\\frac{d[E2]}{dt} & = & -k6[B][E2] + k_6[E2:B] + k8[E2:C] - k_8[E2][C] \\\\\n",
       "\n",
       "\\frac{d[C]}{dt} & = & 0 \\\\\n",
       "\\end{align}"
      ],
      "text/plain": [
       "<IPython.core.display.Latex object>"
      ]
     },
     "metadata": {},
     "output_type": "display_data"
    }
   ],
   "source": [
    "%%latex\n",
    "The ordinary differential equations (ODEs) used in the simulation based on rate parameters are as follows:\n",
    "\n",
    "\\begin{align}\n",
    "\\frac{d[A]}{dt} & = & 0 \\\\\n",
    "\n",
    "\\frac{d[E1:A]}{dt} & = & k_2 [E1][A] - k_{-2}[E1:A] - k_3[E1:A] + k_{-3} [E1:B] \\\\\n",
    "\n",
    "\\frac{d[E1:B]}{dt} & = & k_3[E1:A] - k_{-3}[E1:B] - k_4[E1:B] + k_{-4}[E1][B] \\\\\n",
    "\n",
    "\\frac{d[B]}{dt} & = & k_4[E1:B] - k_{-4}[E1][B] - k_6[B][E2] + k_{-6}[E2:B] \\\\ \n",
    "\n",
    "\\frac{d[E1]}{dt} & = & = -k2[A][E1] + k_{-2}[E1:A] + k_4[E1:B] - k_{-4}[E1][B] \\\\\n",
    "\n",
    "\n",
    "\\frac{d[E2:B]}{dt} & = & k_6[E2][B] - k_{-6}[E2:B] - k_7[E2:B] + k_{-7}[E2:C] \\\\\n",
    "\n",
    "\\frac{d[E2:C]}{dt} & = &  k_7[E2:B] - k_{-7}[E2:C] - k_8[E2:C] + k_{-8}[E2][C] \\\\\n",
    "\n",
    "\\frac{d[E2]}{dt} & = & -k6[B][E2] + k_6[E2:B] + k8[E2:C] - k_8[E2][C] \\\\\n",
    "\n",
    "\\frac{d[C]}{dt} & = & 0 \\\\\n",
    "\\end{align}"
   ]
  },
  {
   "cell_type": "markdown",
   "metadata": {},
   "source": [
    "## ODEs based on Coupled Reaction Theorem"
   ]
  },
  {
   "cell_type": "code",
   "execution_count": 87,
   "metadata": {
    "collapsed": false,
    "hide_input": false
   },
   "outputs": [
    {
     "data": {
      "text/latex": [
       "The ODE's used to simulation the time dependence of the same species using an implemention of the \n",
       "coupled reaction theorem are:\n",
       "\n",
       "\\begin{eqnarray}\n",
       "\\frac{d[A]}{dt} & = & 0 \\\\\n",
       "% E1A dynamics\n",
       "\\frac{d[E1:A]}{dt} & = & (1 - K_{-2}\\frac{[E1:A]}{[E1][A]}) - c2a1a\\cdot(1 - K_{-3}\\frac{[E1:B]}{[E1:A]}) \\\\\n",
       "\n",
       "% E1B dynamics\n",
       "\\frac{d[E1:B]}{dt} & = & c2a1a\\cdot(1 - K_{-3}\\frac{[E1:B]}{[E1:A]}) - c3a1a\\cdot(1 - K_{-4}\\frac{[E1][B]}{[E1:B]}) \\\\\n",
       "\n",
       "% B dynamics\n",
       "\\frac{d[B]}{dt} & = & c3a1a\\cdot(1  - K_{-4}\\frac{[E1][B]}{[E1:B]}) - c1b1a \\cdot (1 - K_{-6}\\frac{[E2:B]}{[E2][B]}) \\\\\n",
       "\n",
       "% E1 dynamics\n",
       "\\frac{d[E1]}{dt} & = & -(1 - K_{-2}\\frac{[E1:A]}{[A][E1]}) + c3a1a\\cdot(1 - K_{-4}\\frac{[E1][B]}{[E1:B]}) \\\\\n",
       "\n",
       "% E2B complex dynamics\n",
       "\\frac{d[E2:B]}{dt} & = & c1b1a\\cdot(1 - K_{-6}\\frac{[E2:B]}{[E2][B]}) - c2b1a\\cdot(1 - K_{-7}\\frac{[E2:C]}{[E2:B]}) \\\\\n",
       "\n",
       "% E2C complex dynamics\n",
       "\\frac{d[E2:C]}{dt} & = & c2b1a\\cdot(1 - K_{-7}\\frac{[E2:C]}{[E2:B]}) - c3b1a\\cdot(1 - K_{-8}\\frac{[E2][C]}{[E2:C]}) \\\\\n",
       "\n",
       "% E2 dynamics\n",
       "\\frac{d[E2]}{dt} & = & -c1b1a\\cdot(1 - K_{-6}\\frac{[E2:B]}{[B][E2]}) + c3b1a\\cdot(1 - K_{-8}\\frac{[E2][C]}{[E2:C]} \\\\\n",
       "\n",
       "\\frac{d[C]}{dt} & = & 0 \\\\\n",
       "\\end{eqnarray}"
      ],
      "text/plain": [
       "<IPython.core.display.Latex object>"
      ]
     },
     "metadata": {},
     "output_type": "display_data"
    }
   ],
   "source": [
    "%%latex\n",
    "The ODE's used to simulation the time dependence of the same species using an implemention of the \n",
    "coupled reaction theorem are:\n",
    "\n",
    "\\begin{eqnarray}\n",
    "\\frac{d[A]}{dt} & = & 0 \\\\\n",
    "% E1A dynamics\n",
    "\\frac{d[E1:A]}{dt} & = & (1 - K_{-2}\\frac{[E1:A]}{[E1][A]}) - c2a1a\\cdot(1 - K_{-3}\\frac{[E1:B]}{[E1:A]}) \\\\\n",
    "\n",
    "% E1B dynamics\n",
    "\\frac{d[E1:B]}{dt} & = & c2a1a\\cdot(1 - K_{-3}\\frac{[E1:B]}{[E1:A]}) - c3a1a\\cdot(1 - K_{-4}\\frac{[E1][B]}{[E1:B]}) \\\\\n",
    "\n",
    "% B dynamics\n",
    "\\frac{d[B]}{dt} & = & c3a1a\\cdot(1  - K_{-4}\\frac{[E1][B]}{[E1:B]}) - c1b1a \\cdot (1 - K_{-6}\\frac{[E2:B]}{[E2][B]}) \\\\\n",
    "\n",
    "% E1 dynamics\n",
    "\\frac{d[E1]}{dt} & = & -(1 - K_{-2}\\frac{[E1:A]}{[A][E1]}) + c3a1a\\cdot(1 - K_{-4}\\frac{[E1][B]}{[E1:B]}) \\\\\n",
    "\n",
    "% E2B complex dynamics\n",
    "\\frac{d[E2:B]}{dt} & = & c1b1a\\cdot(1 - K_{-6}\\frac{[E2:B]}{[E2][B]}) - c2b1a\\cdot(1 - K_{-7}\\frac{[E2:C]}{[E2:B]}) \\\\\n",
    "\n",
    "% E2C complex dynamics\n",
    "\\frac{d[E2:C]}{dt} & = & c2b1a\\cdot(1 - K_{-7}\\frac{[E2:C]}{[E2:B]}) - c3b1a\\cdot(1 - K_{-8}\\frac{[E2][C]}{[E2:C]}) \\\\\n",
    "\n",
    "% E2 dynamics\n",
    "\\frac{d[E2]}{dt} & = & -c1b1a\\cdot(1 - K_{-6}\\frac{[E2:B]}{[B][E2]}) + c3b1a\\cdot(1 - K_{-8}\\frac{[E2][C]}{[E2:C]} \\\\\n",
    "\n",
    "\\frac{d[C]}{dt} & = & 0 \\\\\n",
    "\\end{eqnarray}"
   ]
  },
  {
   "cell_type": "markdown",
   "metadata": {},
   "source": [
    "# Global Parameters"
   ]
  },
  {
   "cell_type": "markdown",
   "metadata": {
    "collapsed": false,
    "hide_input": true
   },
   "source": [
    "First, set some global parameters:"
   ]
  },
  {
   "cell_type": "code",
   "execution_count": 88,
   "metadata": {
    "collapsed": true
   },
   "outputs": [],
   "source": [
    "font_size = 12;\n",
    "line_width = 2.00;\n",
    "RT = 2.477572; % kJ/mol\n",
    "\n",
    "% Equilibrium constant for the summary reaction A ==> C:\n",
    "K_overall = 100;\n",
    "% Uncomment the line below to reproduce Figure 3D in the manuscript\n",
    "%K_overall = 1;\n",
    "factor = 0.02;\n",
    "K1 = factor*sqrt(K_overall);\n",
    "K5 = (1/factor)*sqrt(K_overall);"
   ]
  },
  {
   "cell_type": "code",
   "execution_count": 107,
   "metadata": {
    "collapsed": false,
    "hide_input": false
   },
   "outputs": [
    {
     "data": {
      "text/latex": [
       "Set parameters for the first set of reactions involving enzyme E1,\n",
       "\\begin{eqnarray}\n",
       "A + E1 & \\Leftrightarrow & AE1 & \\Leftrightarrow & BE1 & \\Leftrightarrow B + E1. &\n",
       "\\end{eqnarray}"
      ],
      "text/plain": [
       "<IPython.core.display.Latex object>"
      ]
     },
     "metadata": {},
     "output_type": "display_data"
    }
   ],
   "source": [
    "%%latex\n",
    "Set parameters for the first set of reactions involving enzyme E1,\n",
    "\\begin{eqnarray}\n",
    "A + E1 & \\Leftrightarrow & AE1 & \\Leftrightarrow & BE1 & \\Leftrightarrow B + E1. &\n",
    "\\end{eqnarray}"
   ]
  },
  {
   "cell_type": "code",
   "execution_count": 89,
   "metadata": {
    "collapsed": false
   },
   "outputs": [],
   "source": [
    "% Parameters \n",
    "% K denotes an equilibrium constant\n",
    "% K1 denotes the equilibrium constant for the first reaction\n",
    "% K1_ denotes the equilibrium constant for reaction 1 in reverse\n",
    "% Thus, K_2 denotes equilibrium constant for the first catalyzed reaction in reverse, A + E <== EA\n",
    "% K2 denotes equilibrium constant for the first catalyzed forward reaction, A + E ==> EA\n",
    "K2 = 1e6;\n",
    "K_2 = 1/K2;\n",
    "K4 = 1e-6;\n",
    "K_4 = 1/K4;\n",
    "K3 = K1/(K2*K4);\n",
    "K_3 = 1/K3;\n",
    "DG2 = -RT*log(K2);\n",
    "DG3 = -RT*log(K3);\n",
    "DG4 = -RT*log(K4);\n",
    "\n",
    "% Next, set the kinetic/mass action rate constants for these same reactions.\n",
    "% rate constants are denoted by lower case 'k'\n",
    "k2 = 1e9;\n",
    "k_2 = k2/K2;\n",
    "k_4 = 1e9;\n",
    "k4 = k_4 *K4;\n",
    "k3 = 1e3;\n",
    "k_3 = k3/K3;"
   ]
  },
  {
   "cell_type": "code",
   "execution_count": 106,
   "metadata": {
    "collapsed": false,
    "hide_input": true
   },
   "outputs": [
    {
     "data": {
      "text/latex": [
       "Set parameters for the second set of reactions involving enzyme E2,\n",
       "\n",
       "\\begin{eqnarray}\n",
       "B + E2 & \\Leftrightarrow & BE2 & \\Leftrightarrow & CE2 & \\Leftrightarrow C + E2. &\n",
       "\\end{eqnarray}"
      ],
      "text/plain": [
       "<IPython.core.display.Latex object>"
      ]
     },
     "metadata": {},
     "output_type": "display_data"
    }
   ],
   "source": [
    "%%latex\n",
    "Set parameters for the second set of reactions involving enzyme E2,\n",
    "\n",
    "\\begin{eqnarray}\n",
    "B + E2 & \\Leftrightarrow & BE2 & \\Leftrightarrow & CE2 & \\Leftrightarrow C + E2. &\n",
    "\\end{eqnarray}"
   ]
  },
  {
   "cell_type": "code",
   "execution_count": 91,
   "metadata": {
    "collapsed": false
   },
   "outputs": [],
   "source": [
    "% Reaction parameters for the second set of catalyzed reactions:\n",
    "K6 = 1e6;\n",
    "K_6 = 1/K6;\n",
    "K8 = 1e-6;\n",
    "K_8 = 1/K8;\n",
    "K7 = K5/(K6*K8);\n",
    "K_7 = 1/K7;\n",
    "DG6 = -RT*log(K6);\n",
    "DG7 = -RT*log(K7);\n",
    "DG8 = -RT*log(K8);\n",
    "\n",
    "k6 = 1e9;\n",
    "k_6 = k6/K6;\n",
    "%k8 = 1e3;\n",
    "%k_8 = k8/K8;\n",
    "k_8 = 1e9;\n",
    "k8 = k_8 *K8;\n",
    "k7 = 1e3;\n",
    "k_7 = k7/K7;"
   ]
  },
  {
   "cell_type": "markdown",
   "metadata": {
    "collapsed": false,
    "hide_input": true
   },
   "source": [
    "Set the initial concentrations and the range of integration:"
   ]
  },
  {
   "cell_type": "code",
   "execution_count": 92,
   "metadata": {
    "collapsed": true
   },
   "outputs": [],
   "source": [
    "A0 = 1e-3;\n",
    "C0 = 1.4373e-25;\n",
    "% Uncomment the line below to reproduce Figure 3D in the manuscript\n",
    "C0 = 1.4373e-9;\n",
    "E10= 0.5e-3;\n",
    "E20= 0.5e-3;\n",
    "options = [];\n",
    "initial_concentrations = [A0 0 0 0 E10 0 0 C0 E20];\n",
    "timespan = [0,10];"
   ]
  },
  {
   "cell_type": "markdown",
   "metadata": {},
   "source": [
    "# Mass Action Dynamics of Enzyme Catalyzed Reactions using Rate Constants"
   ]
  },
  {
   "cell_type": "markdown",
   "metadata": {
    "hide_input": false
   },
   "source": [
    "## ODE Implementation"
   ]
  },
  {
   "cell_type": "markdown",
   "metadata": {
    "collapsed": false,
    "hide_input": true
   },
   "source": [
    "\n",
    "This section provides the code for the usual differential equation describing the dynamics of each \n",
    "chemical species according to the law of mass action in which rate constants are used. The ODE is provided \n",
    "next, and the subroutine containing the ODE is called by a solver. However, \n",
    "a matlab subroutine can't be defined within a Jupyter notebook (that I know of). \n",
    "To run the notebook, the code below needs to be cut and pasted into a matlab file, coupledenzymefunc.m, \n",
    "in the directory that you run the notebook."
   ]
  },
  {
   "cell_type": "code",
   "execution_count": 93,
   "metadata": {
    "collapsed": false
   },
   "outputs": [],
   "source": [
    "%{\n",
    "function dydt = coupledenzymefunc(t,y,k2,k_2,k3,k_3,k4,k_4,k6,k_6,k7,k_7,k8,k_8)\n",
    "\n",
    "A = y(1);\n",
    "E1A = y(2);\n",
    "E1B = y(3);\n",
    "B=y(4);\n",
    "E1 = y(5);\n",
    "\n",
    "E2B = y(6);\n",
    "E2C = y(7);\n",
    "C=y(8);\n",
    "E2 = y(9);\n",
    "\n",
    "dydt = zeros(9,1);\n",
    "\n",
    "% initial reaction:\n",
    "dydt(1) = 0;                                            % species A\n",
    "dydt(2) = k2 *E1*A - k_2*E1A - k3 *E1A + k_3 *E1B; % species E1A\n",
    "dydt(3) = k3*E1A - k_3 *E1B - k4*E1B + k_4*E1*B;   % species E1B\n",
    "dydt(4) = k4*E1B - k_4 *E1*B - k6*B*E2 + k_6*E2B; % species B\n",
    "dydt(5) = -k2*A*E1 + k_2*E1A + k4*E1B - k_4 *E1*B;% species E1\n",
    "\n",
    "dydt(6) = k6 *E2*B - k_6*E2B - k7 *E2B + k_7 *E2C; % species E2B\n",
    "dydt(7) = k7*E2B - k_7 *E2C - k8*E2C + k_8*E2*C;   % species E2C\n",
    "% final reaction:\n",
    "dydt(8) = 0;                                            % species C\n",
    "dydt(9) = -k6*B*E2 + k_6*E2B + k8*E2C - k_8 *E2*C;% species E2\n",
    "%}"
   ]
  },
  {
   "cell_type": "markdown",
   "metadata": {},
   "source": [
    "## Run simulation"
   ]
  },
  {
   "cell_type": "markdown",
   "metadata": {
    "collapsed": false,
    "hide_input": false
   },
   "source": [
    "Run the simulation using the stiff solver ode23tb \\cite{Hosea1996}:"
   ]
  },
  {
   "cell_type": "code",
   "execution_count": 94,
   "metadata": {
    "collapsed": false
   },
   "outputs": [],
   "source": [
    "time = cputime;\n",
    "[t_kin,y] = ode23tb(@coupledenzymefunc_distribute, timespan,[A0 0 0 0 E10 0 0 C0 E20], ...\n",
    "options, k2, k_2, k3, k_3, k4, k_4, k6, k_6, k7, k_7, k8,k_8);"
   ]
  },
  {
   "cell_type": "markdown",
   "metadata": {
    "collapsed": false,
    "hide_input": false
   },
   "source": [
    "Convert the results into appropriately named variables that correspond with Figure 2 in the manuscript:"
   ]
  },
  {
   "cell_type": "code",
   "execution_count": 95,
   "metadata": {
    "collapsed": false
   },
   "outputs": [],
   "source": [
    "A_kin = y(:,1);\n",
    "E1A_kin = y(:,2);\n",
    "E1B_kin = y(:,3);\n",
    "B_kin = y(:,4);\n",
    "E1_kin = y(:,5);\n",
    "\n",
    "B_kin = B_kin;\n",
    "E2B_kin = y(:,6);\n",
    "E2C_kin = y(:,7);\n",
    "C_kin = y(:,8);\n",
    "E2_kin = y(:,9);"
   ]
  },
  {
   "cell_type": "markdown",
   "metadata": {
    "collapsed": false,
    "hide_input": false
   },
   "source": [
    "Display the results of the simulation at the bottom of the notebook."
   ]
  },
  {
   "cell_type": "markdown",
   "metadata": {},
   "source": [
    "# ODE of Mass Action Dynamics of Enzyme Catalyzed Reactions using Coupled Reaction Theorem"
   ]
  },
  {
   "cell_type": "markdown",
   "metadata": {
    "collapsed": false,
    "hide_input": false
   },
   "source": [
    "First, the coupling terms need to be calculated from the steady state observations of counts or \n",
    "concentrations. These are taken from the previous simulation above.\n",
    "Also, since the thermodynamic formulation is a deterministic formulation, the initial concentrations can't have\n",
    "zeros like the initial concentrations for the simulation above. Instead, set each initial concentration to the minimum\n",
    "observed value above. "
   ]
  },
  {
   "cell_type": "code",
   "execution_count": 96,
   "metadata": {
    "collapsed": false
   },
   "outputs": [],
   "source": [
    "A_ss = A_kin(end);\n",
    "E1A_ss = E1A_kin(end);\n",
    "E1B_ss = E1B_kin(end);\n",
    "B_ss = B_kin(end);\n",
    "E1_ss = E1_kin(end);\n",
    "\n",
    "B_ss = B_ss;\n",
    "E2B_ss = E2B_kin(end);\n",
    "E2C_ss = E2C_kin(end);\n",
    "C_ss = C_kin(end);\n",
    "E2_ss = E2_kin(end);\n",
    "\n",
    "%Initial conditions for the use of the coupled reaction theorem method \n",
    "% must not have concentrations > 0 for concentrations:\n",
    "A_init = max(A_kin(find(A_kin > 0)));\n",
    "E1A_init = min(E1A_kin(find(E1A_kin > 0)));\n",
    "E1B_init = min(E1B_kin(find(E1B_kin > 0)));\n",
    "B_init = min(B_kin(find(B_kin > 0)));\n",
    "E1_init = max(E1_kin(find(E1_kin > 0)));\n",
    "\n",
    "B_init = B_init;\n",
    "E2B_init = min(E2B_kin(find(E2B_kin > 0)));\n",
    "E2C_init = min(E2C_kin(find(E2C_kin > 0)));\n",
    "C_init = min(C_kin(find(C_kin > 0)));\n",
    "E2_init = max(E2_kin(find(E2_kin > 0)));\n",
    "\n",
    "% Steady State Coupling terms:\n",
    "%p(2)/p(1):\n",
    "c2a1ass = (1-K_2*E1A_ss/(E1_ss*A_ss)) / (1-K_3*E1B_ss/E1A_ss);\n",
    "% p(-2)/p(1):\n",
    "c2a1a_ss = (1-K_2*E1A_ss/(E1_ss*A_ss)) / (K3*E1A_ss/E1B_ss -1);\n",
    "%p(3)/p(1):\n",
    "c3a1ass = c2a1ass*(1-K_3*E1B_ss/E1A_ss) / (1 - K_4*E1_ss*B_ss/E1B_ss);\n",
    "% p(-3)/p(1):\n",
    "c3a1a_ss = c2a1ass*(1-K_3*E1B_ss/E1A_ss) / (K4*E1B_ss/(B_ss*E1_ss) -1);\n",
    "% p(4)/p(1):\n",
    "c1b1ass = c3a1ass*(1 - K_4*E1_ss*B_ss/E1B_ss) / (1 - K_6*E2B_ss/(B_ss*E2_ss));\n",
    "% p(5)/p(1):\n",
    "c2b1ass = c1b1ass*(1 - K_6*(E2B_ss)/(B_ss*E2_ss)) / (1-K_7*E2C_ss/E2B_ss);\n",
    "% p(6)/p(1):\n",
    "c3b1ass = c2b1ass * (1-K_7*E2C_ss/E2B_ss) / (1 - K_8*E2_ss*C_ss/E2C_ss);\n",
    "\n",
    "% Calculate the coupling constants, K (eg., main manuscript Eqn 19:\n",
    "K2a1a = c2a1ass * 1/E1A_ss          * A_ss/1 * E1_ss/1;\n",
    "K3a1a = c3a1ass * 1/E1B_ss          * A_ss/1 * E1_ss/1;\n",
    "\n",
    "K1b1a = c1b1ass * 1/B_ss * 1/E2_ss * A_ss/1 * E1_ss/1;\n",
    "K2b1a = c2b1ass * 1/E2B_ss          * A_ss/1 * E1_ss/1;\n",
    "K3b1a = c3b1ass * 1/E2C_ss          * A_ss/1 * E1_ss/1;\n",
    "\n",
    "conc_ss = [A_ss E1A_ss E1B_ss B_ss E1_ss E2B_ss E2C_ss C_ss E2_ss];\n",
    "conc_init = [A_init E1A_init E1B_init B_init E1_init E2B_init E2C_init C_init E2_init];\n",
    "coupling_constant = [K2a1a K3a1a K1b1a K2b1a K3b1a];\n",
    "equi_const = [K2 K3 K4 K6 K7 K8];\n",
    "% if using CRT such that timespan = t_kin, then MUST multiply dydt by p(1) = k2*E1*A!\n",
    "% That is, if using full CRT with no multiplication of dydt by p(1), then the algorithm must \n",
    "% select its own timepoints!"
   ]
  },
  {
   "cell_type": "markdown",
   "metadata": {},
   "source": [
    "## ODE Implementation"
   ]
  },
  {
   "cell_type": "markdown",
   "metadata": {
    "collapsed": false,
    "hide_input": true
   },
   "source": [
    "\n",
    "This section provides the code for the differential equation describing the dynamics of each \n",
    "chemical species according to the law of mass action in which equilibrium constants are used. The ODE \n",
    "is provided next, and the subroutine containing the ODE is called by the same solver as used above. \n",
    "Again, a matlab subroutine can't be defined within a Jupyter notebook, so the code below needs to be \n",
    "cut and pasted into a matlab file, coupledenzymefunc_crt.m, in the directory that you run the notebook."
   ]
  },
  {
   "cell_type": "code",
   "execution_count": 97,
   "metadata": {
    "collapsed": true,
    "raw_mimetype": "text/restructuredtext"
   },
   "outputs": [],
   "source": [
    "%{\n",
    "function dydt = coupledenzymefunc_crt(t,y,equi_const,k1, concs_ss, coupling_ss, rescale)\n",
    "K2 = equi_const(1);\n",
    "K3 = equi_const(2);\n",
    "K4 = equi_const(3);\n",
    "\n",
    "K6 = equi_const(4);\n",
    "K7 = equi_const(5);\n",
    "K8 = equi_const(6);\n",
    "\n",
    "K_2 = 1/K2;\n",
    "K_3 = 1/K3;\n",
    "K_4 = 1/K4;\n",
    "\n",
    "K_6 = 1/K6;\n",
    "K_7 = 1/K7;\n",
    "K_8 = 1/K8;\n",
    "\n",
    "A = y(1) ;\n",
    "E1A = y(2) ;\n",
    "E1B = y(3) ;\n",
    "B = y(4) ;\n",
    "E1 = y(5);\n",
    "\n",
    "B = B;\n",
    "E2B = y(6) ;\n",
    "E2C = y(7) ;\n",
    "C = y(8) ;\n",
    "E2 = y(9);\n",
    "\n",
    "dydt = zeros(9,1);\n",
    "\n",
    "c11 = k1*A*E1;\n",
    "A_ss = concs_ss(1);\n",
    "E1A_ss = concs_ss(2);\n",
    "E1B_ss = concs_ss(3);\n",
    "B_ss = concs_ss(4);\n",
    "E1_ss = concs_ss(5);\n",
    "\n",
    "E2B_ss = concs_ss(6);\n",
    "E2C_ss = concs_ss(7);\n",
    "C_ss = concs_ss(8);\n",
    "E2_ss = concs_ss(9);\n",
    "\n",
    "% Calculate the coupling terms:\n",
    "c2a1a = coupling_ss(1) * E1A/E1A_ss          * A_ss/A * E1_ss/E1;\n",
    "c3a1a = coupling_ss(2) * E1B/E1B_ss          * A_ss/A * E1_ss/E1;\n",
    "\n",
    "c1b1a = coupling_ss(3) * B/B_ss * E2/E2_ss * A_ss/A * E1_ss/E1;\n",
    "c2b1a = coupling_ss(4) * E2B/E2B_ss          * A_ss/A * E1_ss/E1;\n",
    "c3b1a = coupling_ss(5) * E2C/E2C_ss          * A_ss/A * E1_ss/E1;\n",
    "\n",
    "%Enzymatic Reaction 1:\n",
    "dydt(1) = 0;\n",
    "\n",
    "% E1A dynamics\n",
    "   dydt(2) = (1 - K_2*E1A/(E1*A)) - c2a1a*(1 - K_3*E1B/E1A);\n",
    "\n",
    "% E1B dynamics\n",
    "   dydt(3) = c2a1a*(1 - K_3*E1B/E1A) - c3a1a*(1 - K_4*E1*B/E1B);\n",
    "\n",
    "% B dynamics\n",
    "   dydt(4) = c3a1a*(1  - K_4*E1*B/E1B) - c1b1a * (1 - K_6 * E2B/(E2*B));\n",
    "\n",
    "% E1 dynamics\n",
    "   dydt(5) = -(1 - K_2*E1A/(A*E1)) + c3a1a*(1 - K_4*E1*B/E1B);\n",
    "\n",
    "%Enzymatic Reaction 2:\n",
    "% The dynamics of the substrate (B) of enzymatic reaction 2 are addressed in the equation for the \n",
    "% product dynamics of Enzyme reaction 1 above.\n",
    "\n",
    "% E2B complex dynamics\n",
    "   dydt(6) = c1b1a*(1 - K_6*E2B/(E2*B)) - c2b1a*(1 - K_7*E2C/E2B);\n",
    "\n",
    "% E2C complex dynamics\n",
    "   dydt(7) = c2b1a*(1 - K_7*E2C/E2B) - c3b1a*(1 - K_8*E2*C/E2C);\n",
    "\n",
    "% C dynamics\n",
    "dydt(8) = 0;\n",
    "\n",
    "% E2 dynamics\n",
    "%dydt(5) = -k1*s*e + k1_*es + k3*ep - k3_ *e*p;\n",
    "   dydt(9) = -c1b1a*(1 - K_6*E2B/(B*E2)) + c3b1a*(1 - K_8*E2*C/E2C);\n",
    "\n",
    "if(rescale == 0)\n",
    "   dydt = c11 * dydt;\n",
    "end;\n",
    "%}"
   ]
  },
  {
   "cell_type": "markdown",
   "metadata": {},
   "source": [
    "## Run simulation"
   ]
  },
  {
   "cell_type": "markdown",
   "metadata": {
    "collapsed": false,
    "hide_input": true
   },
   "source": [
    "\n",
    "Now run the simulation using the same stiff solver:"
   ]
  },
  {
   "cell_type": "code",
   "execution_count": 98,
   "metadata": {
    "collapsed": false
   },
   "outputs": [],
   "source": [
    "rescale = 1;\n",
    "time = cputime;\n",
    "[t,y] = ode23tb(@coupledenzymefunc_crt_distribute, timespan, conc_init, options, equi_const, ...\n",
    "k2, conc_ss, coupling_constant,rescale);"
   ]
  },
  {
   "cell_type": "markdown",
   "metadata": {
    "collapsed": false,
    "hide_input": false
   },
   "source": [
    "\n",
    "Convert the results into appropriately named variables that correspond with Figure 2 in the manuscript:"
   ]
  },
  {
   "cell_type": "code",
   "execution_count": 99,
   "metadata": {
    "collapsed": false
   },
   "outputs": [],
   "source": [
    "t_length = length(t);\n",
    "t_kin_length = length(t_kin);\n",
    "\n",
    "A = y(:,1);\n",
    "E1A = y(:,2);\n",
    "E1B = y(:,3);\n",
    "B = y(:,4);\n",
    "E1 = y(:,5);\n",
    "E2B = y(:,6);\n",
    "E2C = y(:,7);\n",
    "C = y(:,8);\n",
    "E2 = y(:,9);"
   ]
  },
  {
   "cell_type": "markdown",
   "metadata": {},
   "source": [
    "# ODE of Summary Reactions using the Coupled Reaction Theorem"
   ]
  },
  {
   "cell_type": "markdown",
   "metadata": {},
   "source": [
    "## ODE Formulation"
   ]
  },
  {
   "cell_type": "markdown",
   "metadata": {
    "collapsed": false,
    "hide_input": true
   },
   "source": [
    "\n",
    "This section provides the code for the differential equation describing the dynamics of the summary \n",
    "reactions involving only species A, B, and C according to the law of mass action in which equilibrium \n",
    "constants are used. "
   ]
  },
  {
   "cell_type": "code",
   "execution_count": 100,
   "metadata": {
    "collapsed": false
   },
   "outputs": [],
   "source": [
    "c21ss = (1 - 1/(K_2*K_3*K_4)*B_ss/A_ss) / (1 - (K_8*K_7*K_6)*C_ss/B_ss);\n",
    "K21 = c21ss * 1/B_ss * A_ss/1;"
   ]
  },
  {
   "cell_type": "markdown",
   "metadata": {
    "collapsed": false,
    "hide_input": false
   },
   "source": [
    "The ODE is provided \n",
    "next, and the subroutine containing the ODE is called by the same solver as used above. Again, \n",
    "a matlab subroutine can't be defined within a Jupyter notebook, so the code below needs to be \n",
    "cut and pasted into a matlab file, coupledrxnfun_crt_distribute.m, in the directory that you run \n",
    "the notebook."
   ]
  },
  {
   "cell_type": "code",
   "execution_count": 101,
   "metadata": {
    "collapsed": true,
    "raw_mimetype": "text/restructuredtext"
   },
   "outputs": [],
   "source": [
    "%{\n",
    "function dydt = coupledrxnfun_crt_distribute(t,y,equi_const,k1, concs_ss, K21)\n",
    "\n",
    "K2 = equi_const(1);\n",
    "K3 = equi_const(2);\n",
    "K4 = equi_const(3);\n",
    "K6 = equi_const(4);\n",
    "K7 = equi_const(5);\n",
    "K8 = equi_const(6);\n",
    "\n",
    "K_2 = 1/K2;\n",
    "K_3 = 1/K3;\n",
    "K3_a = 1/K4;\n",
    "\n",
    "K_6 = 1/K6;\n",
    "K_7 = 1/K7;\n",
    "K_8 = 1/K8;\n",
    "\n",
    "A = y(1) ;\n",
    "B = y(4) ;\n",
    "C = y(8) ;\n",
    "\n",
    "dydt = zeros(9,1);\n",
    "\n",
    "E1_ss = concs_ss(5);\n",
    "\n",
    "dydt(1) = 0;\n",
    "\n",
    "dydt(4) = (1 - K_2*K_3*K3_a*B/A) - (K21*B/A)*(1 - K_6*K_7*K_8*C/B);\n",
    "\n",
    "dydt(8) = 0;\n",
    "% The absolute rate is recovered by just knowing one rate constant and, in this case, \n",
    "% the steady state concentration of the E1 enzyme:\n",
    "dydt = dydt * k1*A*E1_ss;\n",
    "%}"
   ]
  },
  {
   "cell_type": "markdown",
   "metadata": {},
   "source": [
    "## Run simulation"
   ]
  },
  {
   "cell_type": "code",
   "execution_count": 102,
   "metadata": {
    "collapsed": false
   },
   "outputs": [],
   "source": [
    "[t_crt,y_crt] = ode23tb(@coupledrxnfunc_crt_distribute, timespan,conc_init, ...\n",
    "options, equi_const, k2, conc_ss, K21);"
   ]
  },
  {
   "cell_type": "markdown",
   "metadata": {
    "collapsed": false,
    "hide_input": true
   },
   "source": [
    "\n",
    "Convert the results into appropriately named variables that correspond with Figure 2 in the manuscript:"
   ]
  },
  {
   "cell_type": "code",
   "execution_count": 103,
   "metadata": {
    "collapsed": false
   },
   "outputs": [],
   "source": [
    "A_crt = y_crt(:,1);\n",
    "B_crt = y_crt(:,4);\n",
    "C_crt = y_crt(:,8);"
   ]
  },
  {
   "cell_type": "markdown",
   "metadata": {},
   "source": [
    "# Figures 3A-3C"
   ]
  },
  {
   "cell_type": "code",
   "execution_count": 104,
   "metadata": {
    "collapsed": false
   },
   "outputs": [
    {
     "data": {
      "image/png": "[encoded data removed]",
      "text/plain": [
       "<IPython.core.display.Image object>"
      ]
     },
     "metadata": {},
     "output_type": "display_data"
    },
    {
     "data": {
      "image/png": "[encoded data removed]",
      "text/plain": [
       "<IPython.core.display.Image object>"
      ]
     },
     "metadata": {},
     "output_type": "display_data"
    },
    {
     "data": {
      "image/png": "[encoded data removed]",
      "text/plain": [
       "<IPython.core.display.Image object>"
      ]
     },
     "metadata": {},
     "output_type": "display_data"
    }
   ],
   "source": [
    "% Figure 3C:\n",
    "figure;\n",
    "semilogy([1:1:t_kin_length], t_kin, 'bo', [1:1:t_length], t, 'r.',1:1:length(t_crt), t_crt,'ro');\n",
    "\n",
    "\n",
    "% Figure 3A:\n",
    "figure1 = figure;\n",
    "axes1 = axes('Parent',figure1,'YScale','log','YMinorTick','off',...\n",
    "    'XScale','log',...\n",
    "    'XMinorTick','off',...\n",
    "    'LineWidth',line_width,...\n",
    "    'FontWeight','normal',...\n",
    "    'FontSize',font_size,...\n",
    "    'FontName','Helvetica');\n",
    "box(axes1,'on');\n",
    "hold(axes1,'all');\n",
    "loglog(t_kin,A_kin,'r-',t_kin,E1_kin,'b-', t_kin, B_kin, 'm-', t_kin, E1A_kin, 'g-', t_kin, E1B_kin, 'k-');\n",
    "legend('S_1', 'E_1', 'P_1', 'E_{1}S_{1}', 'E_{1}P_{1}');\n",
    "%legend('boxoff');\n",
    "loglog(t,A,'r-',t,E1,'b-', t, B, 'm-', t, E1A, 'g-', t, E1B, 'k-');\n",
    "loglog(t_crt, B_crt, 'm--');\n",
    "%loglog(t,A,'r:',t,E1,'b:', t, B, 'm:', t, E1A, 'g:', t, E1B, 'k:', t_crt, B_crt, 'm:');\n",
    "\n",
    "% Figure 3B:\n",
    "figure2 = figure;\n",
    "axes2 = axes('Parent',figure2,'YScale','log','YMinorTick','off',...\n",
    "    'XScale','log',...\n",
    "    'XMinorTick','off',...\n",
    "    'LineWidth',line_width,...\n",
    "    'FontWeight','normal',...\n",
    "    'FontSize',font_size,...\n",
    "    'FontName','Helvetica');\n",
    "box(axes2,'on');\n",
    "hold(axes2,'all');\n",
    "loglog(t_kin,B_kin,'m-',t_kin,E2_kin,'b-', t_kin, E2B_kin, 'g-', t_kin, E2C_kin, 'k-');\n",
    "legend('P_{1}', 'E_{2}', 'E_{2}P_{1}', 'E_{2}P_{2}');\n",
    "loglog(t,B,'m',t,E2,'b', t, E2B, 'g-', t, E2C, 'k-');\n",
    "loglog(t_crt, B_crt, 'm--');"
   ]
  },
  {
   "cell_type": "markdown",
   "metadata": {},
   "source": [
    "# Figure 3D "
   ]
  },
  {
   "cell_type": "markdown",
   "metadata": {
    "collapsed": false,
    "hide_input": false
   },
   "source": [
    "\n",
    "In manuscript, the initial conditions for the simulations are different from those used for Figures \n",
    "3A-C because otherwise the lines on the plot will be on vastly different scales and subsequently do not \n",
    "make a concise graphic. To generate the actual Figure 3D in the manuscript, set the initial conditions\n",
    "at the top of the notebood to $K_{overall} = 1.0$ and $[C] = 1.4373-09$. This will bring all lines into the \n",
    "same area on the plot."
   ]
  },
  {
   "cell_type": "code",
   "execution_count": 105,
   "metadata": {
    "collapsed": false,
    "scrolled": true
   },
   "outputs": [
    {
     "data": {
      "image/png": "[encoded data removed]",
      "text/plain": [
       "<IPython.core.display.Image object>"
      ]
     },
     "metadata": {},
     "output_type": "display_data"
    }
   ],
   "source": [
    "rel_flux1a_kin = K2 *(E1_kin.*A_kin)./E1A_kin;\n",
    "rel_flux2a_kin = K3*E1A_kin./E1B_kin;\n",
    "rel_flux3a_kin = K4*E1B_kin./(E1_kin.*B_kin);\n",
    "rel_flux1b_kin = K6 *(E2_kin.*B_kin)./E2B_kin;\n",
    "rel_flux2b_kin = K7*E2B_kin./E2C_kin;\n",
    "rel_flux3b_kin = K8*E2C_kin./(E2_kin.*C_kin);\n",
    "\n",
    "net_flux_crt1 = 1 ./(1 + (1/K1) *B_crt./A_crt) ;\n",
    "net_flux_crt2 = 1  ./ (1 + (1/K5) *C_crt./B_crt);\n",
    "rel_flux1_crt = K1 *A_crt./B_crt ;\n",
    "rel_flux2_crt =  K5*B_crt./C_crt;\n",
    "\n",
    "% Figure 3D\n",
    "% In manuscript, the initial conditions are K = 1 and [C] = 1.4373-09 simply to bring all \n",
    "% lines into the same area\n",
    "figure4 = figure;\n",
    "axes4 = axes('Parent',figure4,'YScale','log','YMinorTick','on',...\n",
    "    'YLim',[1.0e-4, 1.0e+08],...\n",
    "    'XScale','log',...\n",
    "    'XMinorTick','on',...\n",
    "    'XLim',[1.0e-7, 1.0e+01],...\n",
    "    'LineWidth',line_width,...\n",
    "    'FontWeight','normal',...\n",
    "    'FontSize',font_size,...\n",
    "    'FontName','Helvetica');\n",
    "box(axes4,'on');\n",
    "hold(axes4,'all');\n",
    "% kinetic simulation:\n",
    "loglog1 = loglog(t_kin, rel_flux1a_kin, 'r-', t_kin, rel_flux2a_kin, 'g-', t_kin, rel_flux3a_kin, 'k-');\n",
    "loglog2 = loglog(t_kin, rel_flux1b_kin, 'm--', t_kin, rel_flux2b_kin, 'g--', t_kin, rel_flux3b_kin, 'k--');\n",
    "\n",
    "% Kinetic composite reactions\n",
    "loglog3 = loglog(t_kin, rel_flux1a_kin.*rel_flux2a_kin.*rel_flux3a_kin, 'b-');\n",
    "loglog4 = loglog(t_kin, rel_flux1b_kin.*rel_flux2b_kin.*rel_flux3b_kin, 'b--');\n",
    "\n",
    "% Reaction 678 in figure 3D\n",
    "loglog5 = loglog(t_crt, rel_flux1_crt, 'b.-');\n",
    "% Reaction 8 in figure 3D\n",
    "loglog6 = loglog(t_crt, rel_flux2_crt, 'b.--');\n",
    "\n",
    "set(loglog1(1),'DisplayName','Rxn 2','Color',[1 0 0]);\n",
    "set(loglog1(2),'DisplayName','Rxn 3','Color',[0 1 0]);\n",
    "set(loglog1(3),'DisplayName','Rxn 4','Color',[0 0 0]);\n",
    "set(loglog2(1),'DisplayName','Rxn 6','LineStyle','--','Color',[1 0 1]);\n",
    "set(loglog2(2),'DisplayName','Rxn 7','LineStyle','--','Color',[0 1 0]);\n",
    "set(loglog2(3),'DisplayName','Rxn 8','LineStyle',':','Color',[0 0 0]);\n",
    "set(loglog3(1),'DisplayName','Rxn 234','Color',[0 0 1],'LineWidth',0.5);\n",
    "set(loglog4(1),'DisplayName','Rxn 678','LineStyle',':','Color',[0 0 1],'LineWidth',0.5);\n",
    "set(loglog5(1),'DisplayName','Rxn 1');\n",
    "set(loglog6(1),'DisplayName','Rxn 5','LineStyle',':');\n",
    "\n",
    "% Uncomment the following line to preserve the X-limits of the axes\n",
    "xlim(axes4,[1e-07 10]);\n",
    "ylim(axes4,[1.0e-4, 1.0e+08]);\n",
    "% Create legend\n",
    "legend1 = legend(axes4,'show');\n",
    "set(legend1,...\n",
    "    'Position',[0.818135165789346 0.337951852382506 0.0878938049595933 0.382969768608066],...\n",
    "    'FontSize',12,...\n",
    "    'EdgeColor',[0 0 0]);\n"
   ]
  },
  {
   "cell_type": "markdown",
   "metadata": {},
   "source": [
    "# References\n",
    "\n",
    "[<a id=\"cit-Hosea1996\" href=\"#call-Hosea1996\">1</a>] Hosea M. E. and Shampine L. F., ``_Analysis and implementation of TR-BDF2_'', Applied Numerical Mathematics, vol. 20, number 1-2, pp. 21-37,  1996.  [online](<Go to ISI>://WOS:A1996UF18400003)\n",
    "\n"
   ]
  }
 ],
 "metadata": {
  "_draft": {
   "nbviewer_url": "https://gist.github.com/6581a8ba27580fb83d263f3e193d49c2"
  },
  "celltoolbar": "Raw Cell Format",
  "gist": {
   "data": {
    "description": "CoupledEnzymeSimulations.ipynb",
    "public": true
   },
   "id": "6581a8ba27580fb83d263f3e193d49c2"
  },
  "hide_input": false,
  "kernelspec": {
   "display_name": "Matlab",
   "language": "matlab",
   "name": "matlab"
  },
  "language_info": {
   "codemirror_mode": "octave",
   "file_extension": ".m",
   "help_links": [
    {
     "text": "MetaKernel Magics",
     "url": "https://github.com/calysto/metakernel/blob/master/metakernel/magics/README.md"
    }
   ],
   "mimetype": "text/x-matlab",
   "name": "matlab",
   "version": "0.14.2"
  },
  "latex_envs": {
   "LaTeX_envs_menu_present": true,
   "autocomplete": true,
   "bibliofile": "whitepaper.bib",
   "cite_by": "number",
   "current_citInitial": 1,
   "eqLabelWithNumbers": true,
   "eqNumInitial": 1,
   "hotkeys": {
    "equation": "Ctrl-E",
    "itemize": "Ctrl-I"
   },
   "labels_anchors": false,
   "latex_user_defs": false,
   "report_style_numbering": false,
   "user_envs_cfg": false
  },
  "toc": {
   "colors": {
    "hover_highlight": "#DAA520",
    "running_highlight": "#FF0000",
    "selected_highlight": "#FFD700"
   },
   "moveMenuLeft": true,
   "nav_menu": {
    "height": "12px",
    "width": "252px"
   },
   "navigate_menu": true,
   "number_sections": true,
   "sideBar": true,
   "threshold": 4,
   "toc_cell": true,
   "toc_section_display": "block",
   "toc_window_display": false,
   "widenNotebook": false
  }
 },
 "nbformat": 4,
 "nbformat_minor": 0
}
